{
 "cells": [
  {
   "cell_type": "code",
   "execution_count": null,
   "id": "0704ffc6-dba9-457e-9b57-d9d4991d10fb",
   "metadata": {},
   "outputs": [],
   "source": []
  }
 ],
 "metadata": {
  "kernelspec": {
   "display_name": "",
   "name": ""
  },
  "language_info": {
   "name": ""
  }
 },
 "nbformat": 4,
 "nbformat_minor": 5
}
